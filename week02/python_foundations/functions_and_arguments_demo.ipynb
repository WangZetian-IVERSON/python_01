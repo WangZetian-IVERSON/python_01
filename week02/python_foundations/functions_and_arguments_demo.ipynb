{
 "cells": [
  {
   "cell_type": "markdown",
   "id": "3bb5e5ef",
   "metadata": {},
   "source": [
    "# Python Functions and Argument Calling Demo\n",
    "\n",
    "This notebook demonstrates how to define functions in Python and the different ways to call them: ordered (positional), named (keyword), and using a kwargs dictionary."
   ]
  },
  {
   "cell_type": "markdown",
   "id": "a3e15f18",
   "metadata": {},
   "source": [
    "## 1. Defining a Simple Function\n",
    "Let's define a function that takes three arguments and prints them."
   ]
  },
  {
   "cell_type": "code",
   "execution_count": 2,
   "id": "3fccba06",
   "metadata": {},
   "outputs": [],
   "source": [
    "def demo_func(a, b, c):\n",
    "    print(f'a = {a}')\n",
    "    print(f'b = {b}')\n",
    "    print(f'c = {c}')"
   ]
  },
  {
   "cell_type": "markdown",
   "id": "f22877a6",
   "metadata": {},
   "source": [
    "## 2. Calling the Function with Ordered (Positional) Arguments"
   ]
  },
  {
   "cell_type": "code",
   "execution_count": 3,
   "id": "1b512f41",
   "metadata": {},
   "outputs": [
    {
     "name": "stdout",
     "output_type": "stream",
     "text": [
      "a = 1\n",
      "b = 2\n",
      "c = 3\n"
     ]
    }
   ],
   "source": [
    "demo_func(1, 2, 3)"
   ]
  },
  {
   "cell_type": "markdown",
   "id": "a8e25833",
   "metadata": {},
   "source": [
    "## 3. Calling the Function with Named (Keyword) Arguments"
   ]
  },
  {
   "cell_type": "code",
   "execution_count": 5,
   "id": "bb9d073a",
   "metadata": {},
   "outputs": [
    {
     "name": "stdout",
     "output_type": "stream",
     "text": [
      "a = 10\n",
      "b = 20\n",
      "c = 30\n"
     ]
    }
   ],
   "source": [
    "demo_func(a=10, c=30, b=20)"
   ]
  },
  {
   "cell_type": "markdown",
   "id": "1b546641",
   "metadata": {},
   "source": [
    "## 4. Calling the Function with a kwargs Dictionary"
   ]
  },
  {
   "cell_type": "code",
   "execution_count": 7,
   "id": "64712572",
   "metadata": {},
   "outputs": [
    {
     "name": "stdout",
     "output_type": "stream",
     "text": [
      "a = apple\n",
      "b = banana\n",
      "c = cherry\n"
     ]
    }
   ],
   "source": [
    "args_dict = {'a': 'apple', 'b': 'banana', 'c': 'cherry'}\n",
    "demo_func(**args_dict)"
   ]
  },
  {
   "cell_type": "markdown",
   "id": "ffa1a6b8",
   "metadata": {},
   "source": [
    "---\n",
    "You can experiment by changing the values or the order of arguments above to see how Python handles function arguments!"
   ]
  },
  {
   "cell_type": "markdown",
   "id": "a98d4897",
   "metadata": {},
   "source": [
    "## 5. Using a Function's Output\n",
    "\n",
    "Let's modify our function to return a value, and show how to use that output in your code."
   ]
  },
  {
   "cell_type": "code",
   "execution_count": 8,
   "id": "1e619609",
   "metadata": {},
   "outputs": [
    {
     "name": "stdout",
     "output_type": "stream",
     "text": [
      "Sum is: 12\n"
     ]
    }
   ],
   "source": [
    "def add_and_format(a, b, c):\n",
    "    total = a + b + c\n",
    "    return f\"Sum is: {total}\"\n",
    "\n",
    "# Use the function and store the result\n",
    "result = add_and_format(2, 4, 6)\n",
    "print(result)"
   ]
  },
  {
   "cell_type": "markdown",
   "id": "74e88812",
   "metadata": {},
   "source": [
    "## 6. Calling Methods on Objects\n",
    "\n",
    "In Python, methods are functions that belong to objects. Here are examples using the `append` and `extend` methods on lists."
   ]
  },
  {
   "cell_type": "code",
   "execution_count": 1,
   "id": "4692ee5c",
   "metadata": {},
   "outputs": [
    {
     "name": "stdout",
     "output_type": "stream",
     "text": [
      "After append: [1, 2, 3, 4]\n",
      "After extend: [1, 2, 3, 4, 5, 6, 7]\n"
     ]
    }
   ],
   "source": [
    "# Create a list and use append and extend methods\n",
    "numbers = [1, 2, 3]\n",
    "numbers.append(4)  # Adds a single element to the end\n",
    "print('After append:', numbers)\n",
    "\n",
    "numbers.extend([5, 6, 7])  # Adds multiple elements from another iterable\n",
    "print('After extend:', numbers)"
   ]
  }
 ],
 "metadata": {
  "kernelspec": {
   "display_name": "Python 3",
   "language": "python",
   "name": "python3"
  },
  "language_info": {
   "codemirror_mode": {
    "name": "ipython",
    "version": 3
   },
   "file_extension": ".py",
   "mimetype": "text/x-python",
   "name": "python",
   "nbconvert_exporter": "python",
   "pygments_lexer": "ipython3",
   "version": "3.12.6"
  }
 },
 "nbformat": 4,
 "nbformat_minor": 5
}
